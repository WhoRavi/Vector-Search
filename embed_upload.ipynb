{
 "cells": [
  {
   "cell_type": "code",
   "execution_count": 1,
   "metadata": {},
   "outputs": [],
   "source": [
    "# pip install pandas openai pinecone\n",
    "import pandas as pd\n",
    "import os, time\n",
    "from tqdm import tqdm\n",
    "from openai import OpenAI\n",
    "from pinecone import Pinecone, ServerlessSpec\n",
    "\n",
    "client = OpenAI(api_key = os.getenv('OPENAI_API_KEY'))\n",
    "pc = Pinecone(api_key = os.getenv('PINECONE_API_KEY'))\n",
    "\n",
    "cloud = 'aws'\n",
    "region = 'us-east-1'\n",
    "spec = ServerlessSpec(cloud=cloud, region=region)"
   ]
  },
  {
   "cell_type": "markdown",
   "metadata": {},
   "source": [
    "### Embedding"
   ]
  },
  {
   "cell_type": "code",
   "execution_count": null,
   "metadata": {},
   "outputs": [],
   "source": [
    "df = pd.read_csv('data/netflix_titles.csv')\n",
    "df = df.drop(columns=['date_added', 'duration'])\n",
    "df['combined'] =df.apply(lambda x: ''.join(x.astype(str)), axis=1)\n",
    "df.head(3)"
   ]
  },
  {
   "cell_type": "code",
   "execution_count": null,
   "metadata": {},
   "outputs": [],
   "source": [
    "def embed_fn(text_list, batch_size=100):\n",
    "    embedding = []\n",
    "    for i in tqdm(range(0, len(text_list), batch_size)):\n",
    "        batch = text_list[i:i+batch_size]\n",
    "\n",
    "        try:\n",
    "            response = client.embeddings.create(input=batch, model='text-embedding-3-small')\n",
    "            batch_embedding = [response.data[j].embedding for j in range(len(response.data))]\n",
    "            \n",
    "            # Print each embedded row\n",
    "            for j, emb in enumerate(batch_embedding):\n",
    "                print(f'Embedded row {i+j}')  # Add this \": {emb}\" to print the embedding data also\n",
    "\n",
    "            embedding.extend(batch_embedding)\n",
    "            time.sleep(1)\n",
    "        except Exception as e:\n",
    "            print(f'Error at batch {i//batch_size}: {e}')\n",
    "            time.sleep(5)\n",
    "\n",
    "    return embedding\n",
    "df['embedding'] = embed_fn(df['combined'])\n",
    "df['embedding'] = df['embedding'].apply(lambda x: [round(value, 15) for value in x])"
   ]
  },
  {
   "cell_type": "code",
   "execution_count": null,
   "metadata": {},
   "outputs": [],
   "source": [
    "len(df['embedding'][0])"
   ]
  },
  {
   "cell_type": "markdown",
   "metadata": {},
   "source": [
    "## Uploading Embeded File"
   ]
  },
  {
   "cell_type": "code",
   "execution_count": null,
   "metadata": {},
   "outputs": [],
   "source": [
    "df = pd.read_csv('data/netflix_titles_embedding.csv')\n",
    "\n",
    "index_name = 'netflix-titles'\n",
    "ns_name = 'movie-tv-shows'\n",
    "\n",
    "if index_name not in pc.list_indexes().names():\n",
    "    pc.create_index(\n",
    "        index_name,\n",
    "        dimension = 1536,\n",
    "        metric = 'cosine',\n",
    "        spec = spec\n",
    "    )\n",
    "\n",
    "pinecone_index = pc.Index(index_name)"
   ]
  },
  {
   "cell_type": "code",
   "execution_count": null,
   "metadata": {},
   "outputs": [],
   "source": [
    "df['id'] = df.index.astype(str)\n",
    "\n",
    "def batch_data(df, batch_size):\n",
    "    for i in range(0, len(df), batch_size):\n",
    "        yield df.iloc[i:i+batch_size]\n",
    "print('Uploading vector data!')\n",
    "\n",
    "batch_size = 100\n",
    "for batch_df in tqdm(batch_data(df, batch_size)):\n",
    "    vector_list = list(zip(batch_df['id'], batch_df['embedding'].apply(eval)))\n",
    "    pinecone_index.upsert(vectors = vector_list, namespace = ns_name)"
   ]
  },
  {
   "cell_type": "code",
   "execution_count": null,
   "metadata": {},
   "outputs": [],
   "source": [
    "dataset = pd.read_csv('./Data/netflix_titles.csv')\n",
    "dataset['id'] = dataset.index.astype(str)\n",
    "df = dict(zip(\n",
    "    dataset.id, \n",
    "    dataset[['type', 'title', 'director', 'actors', 'description']].to_dict(orient = 'records')\n",
    "))"
   ]
  },
  {
   "cell_type": "code",
   "execution_count": null,
   "metadata": {},
   "outputs": [],
   "source": [
    "df['id'] = df.index.astype(str)"
   ]
  },
  {
   "cell_type": "code",
   "execution_count": null,
   "metadata": {},
   "outputs": [],
   "source": [
    "df"
   ]
  }
 ],
 "metadata": {
  "kernelspec": {
   "display_name": "venv",
   "language": "python",
   "name": "python3"
  },
  "language_info": {
   "codemirror_mode": {
    "name": "ipython",
    "version": 3
   },
   "file_extension": ".py",
   "mimetype": "text/x-python",
   "name": "python",
   "nbconvert_exporter": "python",
   "pygments_lexer": "ipython3",
   "version": "3.13.2"
  }
 },
 "nbformat": 4,
 "nbformat_minor": 2
}
